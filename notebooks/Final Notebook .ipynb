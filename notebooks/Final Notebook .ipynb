{
 "cells": [
  {
   "cell_type": "markdown",
   "metadata": {},
   "source": [
    "# Meyers Briggs Type Indicator Text Classification Project"
   ]
  },
  {
   "cell_type": "markdown",
   "metadata": {},
   "source": [
    "By: Tony Bennett "
   ]
  },
  {
   "cell_type": "markdown",
   "metadata": {},
   "source": [
    "## Overview"
   ]
  },
  {
   "cell_type": "markdown",
   "metadata": {},
   "source": [
    "This Notebook contains steps to classify text to predict the Meyers Briggs Type of the person who wrote the text. The goal is build a accurate model that can be used to group people based on these types. In order to do this a large amount of data cleaning most take place as well as standard steps that most be taken while doing a text classification model. I used a TF-IDF score and count vectorizer in each of my models to measure how important each word was in the corpus. I used a few models to test out which scores came out the best before settling on a final model. I'll give a summary of each section and provide a link to each individual notebook.   "
   ]
  },
  {
   "cell_type": "markdown",
   "metadata": {},
   "source": [
    "## Business Problem "
   ]
  },
  {
   "cell_type": "markdown",
   "metadata": {},
   "source": [
    "The head of human resources (HRD) and the CEO at Cartex is starting a new initiative to have small group meetings before the start of each work day. The meetings will be casual and have a few questions each day dealing with work related and un work related matters. The human resources head wants to make sure that the workers are grouped with people who are different then them. IE maybe not the first person they would sit down with at lunch. The question is then how could they get information on the employees to group them? The HRD decides against using a questionnaire as most of the time employees tend to be untruthful with them and Cartex had already tried a program with a questionnaire that did meet the companies standards. The HRD decides to use the Meyers Briggs test as a way to group the employees but does not want the employees to waste time taking the test. He decides to ask the CEO what to do. The CEO recommends talking to the recently formed data science team. The data science team comes up with a plan to create machine learning models to classify employee internet posts and predict their Meyers Briggs score. The employees are aware of the plan and submit their social media links to the data science team. They decide to use a few different models to test and from that can pick a final model to give a solid prediction of each employees’ Meyers Briggs score."
   ]
  },
  {
   "cell_type": "markdown",
   "metadata": {},
   "source": [
    "## Data Understanding "
   ]
  },
  {
   "cell_type": "markdown",
   "metadata": {},
   "source": [
    "The data set is from Kaggle and is contained in one file. It contains over 8600 rows containing two columns of a person’s Meyers Briggs code/type and a section of the last 50 things they have posted on an online internet forum. The posts are separated by ‘|||’. The 16 types of personalities are made from 4 axis personality types: \n",
    "-\tIntroversion (I) – Extroversion (E)\n",
    "-\tIntuition (N) – Sensing (S)\n",
    "-\tThinking (T) – Feeling (F)\n",
    "-\tJudging (J) – Perceiving (P)\n",
    "\n",
    "From the 4 axis types you build a 4-letter type, for example ESTJ. Since there are 4 axes for each letter there are 16 potential MBTIs (Myers Briggs Type Indicator) in the data set. The MBTI has been overshadowed by other methods of measuring personality but it is still regarded as a useful tool in the psychological community.  This data is also very imbalanced as most of the people collected are introverted and intuitive so that will have to be addressed when preparing to model and while modelling. \n",
    "\n",
    "The potential personalities are:\n",
    "1.\tISTJ: Quiet, serious, earn success by thoroughness and dependability\n",
    "2.\tISFJ: Quiet, friendly, responsible, and conscientious\n",
    "3.\tINFJ: Seek meaning and connection in ideas, relationships, and material possessions\n",
    "4.\tINTJ: Have original minds and great drive for implementing their ideas and achieving their goals\n",
    "5.\tISTP: Tolerant and flexible, quiet observers until a problem appears, then act quickly to find workable solutions\n",
    "6.\tISFP: Quiet, friendly, sensitive, and kind.\n",
    "7.\tINFP: Idealistic, loyal to their values and to people who are important to them\n",
    "8.\tINTP: Seek to develop logical explanations for everything that interests them\n",
    "9.\tESTP: Flexible and tolerant, they take a pragmatic approach focused on immediate results\n",
    "10.\tESFP: Outgoing, friendly, and accepting\n",
    "11.\tENFP: Warmly enthusiastic and imaginative\n",
    "12.\tENTP: Quick, ingenious, stimulating, alert, and outspoken\n",
    "13.\tESTJ: Practical, realistic, matter-of-fact\n",
    "14.\tESFJ: Warmhearted, conscientious, and cooperative\n",
    "\n",
    "Data Source:\n",
    "\n",
    "https://www.kaggle.com/datasnaek/mbti-type\n",
    "\n",
    "MBTI information:\n",
    "\n",
    "https://www.myersbriggs.org/my-mbti-personality-type/mbti-basics/home.htm\n",
    "\n",
    "https://en.wikipedia.org/wiki/Myers%E2%80%93Briggs_Type_Indicator"
   ]
  },
  {
   "cell_type": "markdown",
   "metadata": {},
   "source": [
    "## Stakeholders"
   ]
  },
  {
   "cell_type": "markdown",
   "metadata": {},
   "source": [
    "- Head of Human Resources \n",
    "- CEO \n",
    "- Cartex Employees"
   ]
  },
  {
   "cell_type": "markdown",
   "metadata": {},
   "source": [
    "## Evaluation Metrics "
   ]
  },
  {
   "cell_type": "markdown",
   "metadata": {},
   "source": [
    "The metrics I used to measure my models are: \n",
    "- Geometric Mean score \n",
    "- Roc-AUC \n",
    "- Average-Precision Recall Score \n",
    "- Imbalanced Classfication Report (text summary of the precision, recall, specificity, geometric mean, and index balanced accuracy.)"
   ]
  },
  {
   "cell_type": "markdown",
   "metadata": {},
   "source": [
    "## EDA , Cleaning of Data and Lemmatization "
   ]
  },
  {
   "cell_type": "markdown",
   "metadata": {},
   "source": [
    "In this notebook I took a look at the raw post data. It is pretty messy and contains things like links and emojis. The 4 letter \n",
    "meyers briggs codes are also referenced pretty frequently. Its beginning of the first 50 things they have posted. The are no nulls in the set. All 16 potential MBTI types are included in the data set. The set apppears to be heavily inbalanced though. The types INFP, INFJ, INTP are the most popular. This means people tend to be more Introverted and Intuivitive in the sample that was collected. The unbalanced nature of the data set calls for some descions to be made while preprocessing the data and when sampling.  \n",
    "\n",
    "I modifed the data base so that each of the 4 axes becomes a binary class. It is either a 1 or zero depending on the personality type of the person. \n",
    "\n",
    "Cleaning the data involved some processes that are done in most text classification problems. This included: \n",
    "\n",
    "- making the post data lower case\n",
    "- getting rid of the '|||' \n",
    "- dropping punctuations \n",
    "- dropping email addresses \n",
    "\n",
    "I used WordNetLemmatizer to normalize the text. I dropped the 16 MBTI types from the post text as we don't want that to effect the prediction of our models. \n",
    "\n",
    "Link to Notebook:\n",
    "\n",
    "https://github.com/tonymbennett5/MBTI-ML-Social-Media-/blob/main/notebooks/EDA%20and%20cleaning%20of%20MBTI%20data%20.ipynb"
   ]
  },
  {
   "cell_type": "markdown",
   "metadata": {},
   "source": [
    "## Count Vectorizer "
   ]
  },
  {
   "cell_type": "markdown",
   "metadata": {},
   "source": [
    "I decided to run a Count Vectorizer on the post data for personal analysis. Another Vectorizer will be actually be added to the modelling pipeline later. I used CountVectorizer() which tokenizes the text and also does basic preprocessing. It removes the punctuation marks and converts all the words to lowercase. Using the vectorizer I was able to get a list of the top used words in the data set. Mostly 3 or 4 letter words that don't have much significance. \n",
    "\n",
    "Link to Notebook:\n",
    "\n",
    "https://github.com/tonymbennett5/MBTI-ML-Social-Media-/blob/main/notebooks/Counting.ipynb"
   ]
  },
  {
   "cell_type": "markdown",
   "metadata": {},
   "source": [
    "## Sentiment Analysis and POS Tagging "
   ]
  },
  {
   "cell_type": "markdown",
   "metadata": {},
   "source": [
    "A sentiment analysis is used to analyze the text to determine the sentiment behind it. Using basic sentimnet analysis we can see whether the post data has a postive, negative or neutral sentiment. I got those three and also added the compound sentiment which combined all three of them. I used the SentimentIntensityAnalyzer() from Vader Sentiment Analysis. Vader (Valence Aware Dictionary and sEntiment Reasoner) is a lexicon and rule-based sentiment analysis tool is specifically attuned to sentiments expressed in social media so it is good for this dataset. \n",
    "\n",
    "A Part-Of-Speech Tagger (POS Tagger) is a piece of software that reads text in some language and assigns parts of speech to each word (and other token), such as noun, verb, adjective, etc., although generally computational applications use more fine-grained POS tags like 'noun-plural'. We can find the average of different parts of speech and add them to the clean data set. \n",
    "\n",
    "Link to Notebook:\n",
    "\n",
    "https://github.com/tonymbennett5/MBTI-ML-Social-Media-/blob/main/notebooks/Sentiment%20Analysis%20and%20POS%20tagging.ipynb"
   ]
  },
  {
   "cell_type": "markdown",
   "metadata": {},
   "source": [
    "## Counting "
   ]
  },
  {
   "cell_type": "markdown",
   "metadata": {},
   "source": [
    "In this notebook I added columns for counts and averages for specific parts of speech such as question marks, exclamation points, colon and emojis. I also counted unique words, upper case words, links, ellipses and images. These all had their own colums and can be added to our model to strengthen it. \n",
    "\n",
    "Link to NoteBook:\n",
    "\n",
    "https://github.com/tonymbennett5/MBTI-ML-Social-Media-/blob/main/notebooks/Counting.ipynb"
   ]
  },
  {
   "cell_type": "markdown",
   "metadata": {},
   "source": [
    "## Modelling "
   ]
  },
  {
   "cell_type": "markdown",
   "metadata": {},
   "source": [
    "\n",
    "\n",
    "I made a few models different types of models before selecting a final one. For each model I tested I ran a Count Vectorized Version and a TF-IDF verison. Then I could see which scores were higher. I focused mostly on the Average Precision-Recall Score for each classifer. The models I tested were: \n",
    "- logistic Regression (the best)\n",
    "- Logistic Ridge Regression \n",
    "- Decision Tree Classifier (the worst)\n",
    "- Support Vector Classifer \n",
    "Since Logistic Regression Performed the best I can move along with that one to find important features of each axis. \n",
    "\n",
    "Checked Feature Importance of final model \n",
    "\n",
    "Link to Notebook:\n",
    "\n",
    "https://github.com/tonymbennett5/MBTI-ML-Social-Media-/blob/main/notebooks/Modeling.ipynb"
   ]
  },
  {
   "cell_type": "markdown",
   "metadata": {},
   "source": [
    "## Conclusion "
   ]
  },
  {
   "cell_type": "markdown",
   "metadata": {},
   "source": [
    "- Dataset was heavily imbalanced which caused problems while classifiying. More people were Introverted and Intuitive then Extroverted and Sensitive. \n",
    "- Tough time discerning beteween Extroversion vs. Introversion and Sensitivity vs. Intuition.\n",
    "- Used Random Undersampling to improve scores but not as signficantly as I had hoped\n",
    "- Meyers Briggs score is pretty a basic test. People often come up in the middle which can cause problems when trying to classify people. Cartex's groups might not be as equal as they would like.  \n",
    "- Added additional words to stop_list\n",
    "- Would consider a model a success as even humans have a tough time discerning someones MBTI. However personality if far more complex then just words and text expression. \n"
   ]
  },
  {
   "cell_type": "markdown",
   "metadata": {},
   "source": [
    "## For the Future"
   ]
  },
  {
   "cell_type": "markdown",
   "metadata": {},
   "source": [
    "- Add more data for the types that were undersampled \n",
    "- continue to try different model types, possibly neural network based model "
   ]
  },
  {
   "cell_type": "code",
   "execution_count": null,
   "metadata": {},
   "outputs": [],
   "source": []
  }
 ],
 "metadata": {
  "kernelspec": {
   "display_name": "Python (learn-env)",
   "language": "python",
   "name": "learn-env"
  },
  "language_info": {
   "codemirror_mode": {
    "name": "ipython",
    "version": 3
   },
   "file_extension": ".py",
   "mimetype": "text/x-python",
   "name": "python",
   "nbconvert_exporter": "python",
   "pygments_lexer": "ipython3",
   "version": "3.8.5"
  }
 },
 "nbformat": 4,
 "nbformat_minor": 4
}
