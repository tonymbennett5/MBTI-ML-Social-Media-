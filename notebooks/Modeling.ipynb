{
 "cells": [
  {
   "cell_type": "markdown",
   "metadata": {},
   "source": [
    "## Notebook Overview"
   ]
  },
  {
   "cell_type": "markdown",
   "metadata": {},
   "source": [
    "- import relevant modules, packages and models \n"
   ]
  },
  {
   "cell_type": "markdown",
   "metadata": {},
   "source": [
    "### Model Preperation\n",
    "- split into test and train data \n",
    "- adding more stopwords \n",
    "- Setting up preprocessor pipeline\n",
    "\n",
    "### Preprocessor Setup\n",
    "- building dictionary so results are formated correctly\n",
    "- Function for building model\n",
    "\n",
    "### Models used: \n",
    "- TF-IDF Logistic Regression \n",
    "-  Count Vectorized Logistic Regression\n",
    "- TF-IDF Logistic Ridge\n",
    "- Count Vectorized Logistic Ridge\n",
    "- TD-IDF Decision Tree Classifier\n",
    "- Count Vectorized Decision Tree Classifier\n",
    "- TF-IDF Support Vector Classifier\n",
    "- Count Vectorized Support Vector Classifier\n",
    "- TF-IDF Random Forest\n",
    "- Count Vectorized Random Forest\n",
    "- TF - IDF Naive Bayes\n",
    "- Count Vectorized Naive Bayes\n",
    "\n"
   ]
  },
  {
   "cell_type": "code",
   "execution_count": 14,
   "metadata": {},
   "outputs": [],
   "source": [
    "import pandas as pd \n",
    "import numpy as np \n",
    "from sklearn.model_selection import StratifiedKFold\n",
    "from sklearn.model_selection import train_test_split\n",
    "\n",
    "from sklearn.feature_extraction.text import TfidfVectorizer\n",
    "from sklearn.feature_extraction.text import CountVectorizer\n",
    "from sklearn.preprocessing import MinMaxScaler\n",
    "from sklearn.pipeline import make_pipeline\n",
    "from sklearn.feature_selection import f_classif\n",
    "from sklearn.feature_selection import SelectKBest\n",
    "from sklearn.compose import ColumnTransformer\n",
    "\n",
    "from sklearn.linear_model import LogisticRegression\n",
    "from sklearn.linear_model import LogisticRegressionCV\n",
    "from sklearn.tree import DecisionTreeClassifier\n",
    "from sklearn.neighbors import KNeighborsClassifier\n",
    "from sklearn.model_selection import GridSearchCV\n",
    "from sklearn.svm import LinearSVC, SVC\n",
    "from sklearn.ensemble import RandomForestClassifier\n",
    "from sklearn.naive_bayes import MultinomialNB\n",
    "from imblearn.pipeline import make_pipeline as imb_make_pipeline\n",
    "from imblearn.under_sampling import RandomUnderSampler\n",
    "\n",
    "from imblearn.metrics import classification_report_imbalanced\n",
    "from imblearn.metrics import geometric_mean_score\n",
    "from sklearn.metrics import average_precision_score\n",
    "from sklearn.metrics import roc_auc_score\n"
   ]
  },
  {
   "cell_type": "code",
   "execution_count": 2,
   "metadata": {},
   "outputs": [],
   "source": [
    "df_clean3 = pd.read_csv(r\"C:\\Users\\tonym\\Documents\\Flatiron\\phase_5\\capstone\\MBTI-ML-Social-Media-\\data\\df_clean3.csv\")"
   ]
  },
  {
   "cell_type": "code",
   "execution_count": 3,
   "metadata": {
    "scrolled": false
   },
   "outputs": [
    {
     "data": {
      "text/html": [
       "<div>\n",
       "<style scoped>\n",
       "    .dataframe tbody tr th:only-of-type {\n",
       "        vertical-align: middle;\n",
       "    }\n",
       "\n",
       "    .dataframe tbody tr th {\n",
       "        vertical-align: top;\n",
       "    }\n",
       "\n",
       "    .dataframe thead th {\n",
       "        text-align: right;\n",
       "    }\n",
       "</style>\n",
       "<table border=\"1\" class=\"dataframe\">\n",
       "  <thead>\n",
       "    <tr style=\"text-align: right;\">\n",
       "      <th></th>\n",
       "      <th>type</th>\n",
       "      <th>Extrovert</th>\n",
       "      <th>Sensing</th>\n",
       "      <th>Thinking</th>\n",
       "      <th>Judging</th>\n",
       "      <th>posts</th>\n",
       "      <th>cleaned posts</th>\n",
       "      <th>compound_sentiment</th>\n",
       "      <th>positive_sent</th>\n",
       "      <th>negative_sent</th>\n",
       "      <th>...</th>\n",
       "      <th>colons</th>\n",
       "      <th>emojis</th>\n",
       "      <th>word_counts</th>\n",
       "      <th>unique_words</th>\n",
       "      <th>upper_case</th>\n",
       "      <th>link_counts</th>\n",
       "      <th>ellipses_count</th>\n",
       "      <th>image_count</th>\n",
       "      <th>post_var</th>\n",
       "      <th>avg_word_count</th>\n",
       "    </tr>\n",
       "  </thead>\n",
       "  <tbody>\n",
       "    <tr>\n",
       "      <th>0</th>\n",
       "      <td>INFJ</td>\n",
       "      <td>0</td>\n",
       "      <td>0</td>\n",
       "      <td>0</td>\n",
       "      <td>1</td>\n",
       "      <td>'http://www.youtube.com/watch?v=qsXHcwe3krw|||...</td>\n",
       "      <td>and  moments    sportscenter not top ten p...</td>\n",
       "      <td>0.9826</td>\n",
       "      <td>0.178</td>\n",
       "      <td>0.113</td>\n",
       "      <td>...</td>\n",
       "      <td>0.14</td>\n",
       "      <td>0.04</td>\n",
       "      <td>11.56</td>\n",
       "      <td>7.52</td>\n",
       "      <td>0.26</td>\n",
       "      <td>0.48</td>\n",
       "      <td>0.14</td>\n",
       "      <td>0.14</td>\n",
       "      <td>135.29</td>\n",
       "      <td>0.2312</td>\n",
       "    </tr>\n",
       "  </tbody>\n",
       "</table>\n",
       "<p>1 rows × 127 columns</p>\n",
       "</div>"
      ],
      "text/plain": [
       "   type  Extrovert  Sensing  Thinking  Judging  \\\n",
       "0  INFJ          0        0         0        1   \n",
       "\n",
       "                                               posts  \\\n",
       "0  'http://www.youtube.com/watch?v=qsXHcwe3krw|||...   \n",
       "\n",
       "                                       cleaned posts  compound_sentiment  \\\n",
       "0      and  moments    sportscenter not top ten p...              0.9826   \n",
       "\n",
       "   positive_sent  negative_sent  ...  colons emojis word_counts  unique_words  \\\n",
       "0          0.178          0.113  ...    0.14   0.04       11.56          7.52   \n",
       "\n",
       "   upper_case  link_counts  ellipses_count  image_count  post_var  \\\n",
       "0        0.26         0.48            0.14         0.14    135.29   \n",
       "\n",
       "   avg_word_count  \n",
       "0          0.2312  \n",
       "\n",
       "[1 rows x 127 columns]"
      ]
     },
     "execution_count": 3,
     "metadata": {},
     "output_type": "execute_result"
    }
   ],
   "source": [
    "df_clean3.head(1)"
   ]
  },
  {
   "cell_type": "code",
   "execution_count": 4,
   "metadata": {},
   "outputs": [
    {
     "name": "stdout",
     "output_type": "stream",
     "text": [
      "type\n",
      "Extrovert\n",
      "Sensing\n",
      "Thinking\n",
      "Judging\n",
      "posts\n",
      "cleaned posts\n",
      "compound_sentiment\n",
      "positive_sent\n",
      "negative_sent\n",
      "neutral_sent\n",
      "tag_posts\n",
      "tagged_words\n",
      "POS_UH_mean\n",
      "POS_UH_std\n",
      "POS_JJ_mean\n",
      "POS_JJ_std\n",
      "POS_WP$_mean\n",
      "POS_WP$_std\n",
      "POS_PDT_mean\n",
      "POS_PDT_std\n",
      "POS_TO_mean\n",
      "POS_TO_std\n",
      "POS_VB_mean\n",
      "POS_VB_std\n",
      "POS_NNP_mean\n",
      "POS_NNP_std\n",
      "POS_RP_mean\n",
      "POS_RP_std\n",
      "POS_VBP_mean\n",
      "POS_VBP_std\n",
      "POS_WP_mean\n",
      "POS_WP_std\n",
      "POS_NN_mean\n",
      "POS_NN_std\n",
      "POS_DT_mean\n",
      "POS_DT_std\n",
      "POS_(_mean\n",
      "POS_(_std\n",
      "POS_IN_mean\n",
      "POS_IN_std\n",
      "POS_JJR_mean\n",
      "POS_JJR_std\n",
      "POS_VBD_mean\n",
      "POS_VBD_std\n",
      "POS_EX_mean\n",
      "POS_EX_std\n",
      "POS_''_mean\n",
      "POS_''_std\n",
      "POS_SYM_mean\n",
      "POS_SYM_std\n",
      "POS_CD_mean\n",
      "POS_CD_std\n",
      "POS_#_mean\n",
      "POS_#_std\n",
      "POS_$_mean\n",
      "POS_$_std\n",
      "POS_LS_mean\n",
      "POS_LS_std\n",
      "POS_:_mean\n",
      "POS_:_std\n",
      "POS_PRP$_mean\n",
      "POS_PRP$_std\n",
      "POS_NNS_mean\n",
      "POS_NNS_std\n",
      "POS_RBR_mean\n",
      "POS_RBR_std\n",
      "POS_POS_mean\n",
      "POS_POS_std\n",
      "POS_VBN_mean\n",
      "POS_VBN_std\n",
      "POS_WDT_mean\n",
      "POS_WDT_std\n",
      "POS_MD_mean\n",
      "POS_MD_std\n",
      "POS_,_mean\n",
      "POS_,_std\n",
      "POS_CC_mean\n",
      "POS_CC_std\n",
      "POS_VBG_mean\n",
      "POS_VBG_std\n",
      "POS_WRB_mean\n",
      "POS_WRB_std\n",
      "POS_JJS_mean\n",
      "POS_JJS_std\n",
      "POS_``_mean\n",
      "POS_``_std\n",
      "POS_FW_mean\n",
      "POS_FW_std\n",
      "POS_NNPS_mean\n",
      "POS_NNPS_std\n",
      "POS_RB_mean\n",
      "POS_RB_std\n",
      "POS_VBZ_mean\n",
      "POS_VBZ_std\n",
      "POS_PRP_mean\n",
      "POS_PRP_std\n",
      "POS_RBS_mean\n",
      "POS_RBS_std\n",
      "POS_)_mean\n",
      "POS_)_std\n",
      "POS_._mean\n",
      "POS_._std\n",
      "ADJ_avg\n",
      "ADP_avg\n",
      "ADV_avg\n",
      "CONJ_avg\n",
      "DET_avg\n",
      "NOUN_avg\n",
      "NUM_avg\n",
      "PRT_avg\n",
      "PRON_avg\n",
      "VERB_avg\n",
      "._avg\n",
      "X_avg\n",
      "ques marks\n",
      "exc points\n",
      "colons\n",
      "emojis\n",
      "word_counts\n",
      "unique_words\n",
      "upper_case\n",
      "link_counts\n",
      "ellipses_count\n",
      "image_count\n",
      "post_var\n",
      "avg_word_count\n"
     ]
    }
   ],
   "source": [
    "# checking columns \n",
    "for col in df_clean3.columns:\n",
    "    print(col)"
   ]
  },
  {
   "cell_type": "markdown",
   "metadata": {},
   "source": [
    "## Model Preparation"
   ]
  },
  {
   "cell_type": "markdown",
   "metadata": {},
   "source": [
    "### Splitting into predictors and target variable"
   ]
  },
  {
   "cell_type": "code",
   "execution_count": 5,
   "metadata": {},
   "outputs": [],
   "source": [
    "X = df_clean3[\n",
    "    [\"cleaned posts\",\n",
    "     \"compound_sentiment\",\n",
    "     \"ADJ_avg\",\n",
    "     \"ADP_avg\",\n",
    "     \"ADV_avg\",\n",
    "     \"CONJ_avg\",\n",
    "     \"DET_avg\",\n",
    "     \"NOUN_avg\",\n",
    "     \"NUM_avg\",\n",
    "     \"PRT_avg\",     \n",
    "     \"PRON_avg\",\n",
    "     \"VERB_avg\",\n",
    "     \"ques marks\",\n",
    "     \"exc points\",     \n",
    "     \"colons\",\n",
    "     \"emojis\",\n",
    "     \"word_counts\",\n",
    "     \"unique_words\",\n",
    "     \"upper_case\",\n",
    "     \"link_counts\",\n",
    "     \"ellipses_count\",\n",
    "     \"image_count\",   \n",
    "        \n",
    "    ]\n",
    "]\n",
    "# setting up 4 target classes \n",
    "y = df_clean3.iloc[:, 1:5]"
   ]
  },
  {
   "cell_type": "code",
   "execution_count": 6,
   "metadata": {},
   "outputs": [
    {
     "name": "stdout",
     "output_type": "stream",
     "text": [
      "(8675, 22)\n"
     ]
    }
   ],
   "source": [
    "print(X.shape)"
   ]
  },
  {
   "cell_type": "code",
   "execution_count": 7,
   "metadata": {},
   "outputs": [
    {
     "name": "stdout",
     "output_type": "stream",
     "text": [
      "(8675, 4)\n"
     ]
    }
   ],
   "source": [
    "print(y.shape)"
   ]
  },
  {
   "cell_type": "code",
   "execution_count": 8,
   "metadata": {
    "scrolled": false
   },
   "outputs": [
    {
     "data": {
      "text/plain": [
       "type               object\n",
       "Extrovert           int64\n",
       "Sensing             int64\n",
       "Thinking            int64\n",
       "Judging             int64\n",
       "                   ...   \n",
       "link_counts       float64\n",
       "ellipses_count    float64\n",
       "image_count       float64\n",
       "post_var          float64\n",
       "avg_word_count    float64\n",
       "Length: 127, dtype: object"
      ]
     },
     "execution_count": 8,
     "metadata": {},
     "output_type": "execute_result"
    }
   ],
   "source": [
    "df_clean3.dtypes"
   ]
  },
  {
   "cell_type": "code",
   "execution_count": 9,
   "metadata": {},
   "outputs": [],
   "source": [
    "more_stopwords = [\n",
    "    \"hey\",\"hello\",'enfps','entps','infps','infjs','ne','enfjs','intps','ni','entjs','intjs','estps','isfps','istps',\n",
    "    'isfjs','infps','infjs','se','enfps','si','intps','esfjs','intjs','entps','istjs','estps','ne','infps','infjs',\n",
    "    'intps','intjs','entps','enfps','nt','ti','istjs','infjs','infps','intjs','ni','intps','entps','ne','istps','enfps',\n",
    "    'isfjs','fi','fe','istjs','sx','ha','anime','perc','xd','hahaha','estjs','sp','lol','jawz','mbti','sj','nf','yo'\n",
    "    'hsp'\n",
    "    \n",
    "]"
   ]
  },
  {
   "cell_type": "markdown",
   "metadata": {},
   "source": [
    "### Preprocessor Set Up "
   ]
  },
  {
   "cell_type": "code",
   "execution_count": 10,
   "metadata": {},
   "outputs": [],
   "source": [
    "# selecting best columns and features from counts and scores as well as vectorizing words \n",
    "counts_and_scores = [\n",
    "     \"compound_sentiment\",\n",
    "     \"ADJ_avg\",\n",
    "     \"ADP_avg\",\n",
    "     \"ADV_avg\",\n",
    "     \"CONJ_avg\",\n",
    "     \"DET_avg\",\n",
    "     \"NOUN_avg\",\n",
    "     \"NUM_avg\",     \n",
    "     \"PRT_avg\",\n",
    "     \"PRON_avg\",\n",
    "     \"VERB_avg\",\n",
    "     \"ques marks\",\n",
    "     \"exc points\",     \n",
    "     \"colons\",\n",
    "     \"emojis\",\n",
    "     \"word_counts\",\n",
    "     \"unique_words\",\n",
    "     \"upper_case\",\n",
    "     \"link_counts\",\n",
    "     \"ellipses_count\",\n",
    "     \"image_count\",   \n",
    "] \n",
    "# selecting best features from features other than words\n",
    "best_features = make_pipeline(MinMaxScaler(), SelectKBest(f_classif, k = 10))\n",
    "\n",
    "# preprocesor for TF-IDF vectorizer \n",
    "preprocesser_tf = ColumnTransformer(\n",
    "    transformers=[\n",
    "        (\n",
    "            \"tfidf\",\n",
    "            TfidfVectorizer(min_df=25, max_df=0.85 , stop_words = more_stopwords),\n",
    "            \"cleaned posts\",\n",
    "        ),\n",
    "        (\"selectbest\", best_features, counts_and_scores),\n",
    "    ],\n",
    "    remainder=\"passthrough\",\n",
    ")\n",
    "\n",
    "# preprocessing for Count vectorizer \n",
    "preprocesser_ct = ColumnTransformer(\n",
    "    transformers=[\n",
    "        (\n",
    "            \"ct_vect\",\n",
    "            CountVectorizer(min_df=25, max_df=0.85, stop_words = more_stopwords),\n",
    "            \"cleaned posts\",\n",
    "        ),\n",
    "        (\"selectbest\", best_features, counts_and_scores),\n",
    "    ],\n",
    "    remainder=\"passthrough\",\n",
    ")"
   ]
  },
  {
   "cell_type": "markdown",
   "metadata": {},
   "source": [
    "### Modelling Function "
   ]
  },
  {
   "cell_type": "code",
   "execution_count": 11,
   "metadata": {},
   "outputs": [],
   "source": [
    "# dictionary to print scores \n",
    "mbti_type = {\n",
    "    \"Extrovert\": \"Extrovert vs Introvert\",\n",
    "    \"Sensing\": \"Sensing vs Intuition\",\n",
    "    \"Thinking\": \"Thinking vs Feeling\",\n",
    "    \"Judging\": \"Judging vs Perceiving\",\n",
    "}"
   ]
  },
  {
   "cell_type": "code",
   "execution_count": 12,
   "metadata": {},
   "outputs": [],
   "source": [
    "def build_model(model, X, target , vectorizer_name):\n",
    "    \n",
    "    for col in target.columns:\n",
    "        \n",
    "        print(f\"\\n{mbti_type[col]}\")\n",
    "        target = y[col]       \n",
    "        \n",
    "        X_train, X_test, y_train, y_test = train_test_split(X, target, test_size = 0.3,\n",
    "                                                            random_state = 50, stratify = target)\n",
    "              \n",
    "        #training model \n",
    "        model.fit(X_train, y_train)\n",
    "              \n",
    "        # y_hat \n",
    "        y_pred = model.predict(X_test)      \n",
    "              \n",
    "        # y_probablity \n",
    "        y_prob = model.predict_proba(X_test)[:, 1]\n",
    "              \n",
    "        #precision recall score \n",
    "        average_precision = average_precision_score(y_test, y_prob)\n",
    "        \n",
    "        # model evaluation       \n",
    "        print(\n",
    "            f\"Geometric Mean Score:{geometric_mean_score(y_test, y_pred, average='weighted'):.2f}\"\n",
    "        )\n",
    "        print(f\"ROC-AUC Score:{roc_auc_score(y_test, y_prob):.2f}\")\n",
    "        print(f\"Average Precision-Recall Score:{average_precision:.2f}\")             \n",
    "        print(classification_report_imbalanced(y_test, y_pred))     \n",
    "              "
   ]
  },
  {
   "cell_type": "markdown",
   "metadata": {},
   "source": [
    "### TF - IDF Logistic Regression "
   ]
  },
  {
   "cell_type": "code",
   "execution_count": 13,
   "metadata": {},
   "outputs": [],
   "source": [
    "# increased max iterations to reduce warnings but still got some messages \n",
    "import warnings\n",
    "warnings.filterwarnings('ignore')"
   ]
  },
  {
   "cell_type": "code",
   "execution_count": 18,
   "metadata": {
    "scrolled": true
   },
   "outputs": [
    {
     "name": "stdout",
     "output_type": "stream",
     "text": [
      "\n",
      "Extrovert vs Introvert\n",
      "Geometric Mean Score:0.68\n",
      "ROC-AUC Score:0.73\n",
      "Average Precision-Recall Score:0.44\n",
      "                   pre       rec       spe        f1       geo       iba       sup\n",
      "\n",
      "          0       0.87      0.70      0.65      0.78      0.68      0.46      2003\n",
      "          1       0.40      0.65      0.70      0.49      0.68      0.45       600\n",
      "\n",
      "avg / total       0.76      0.69      0.66      0.71      0.68      0.46      2603\n",
      "\n",
      "\n",
      "Sensing vs Intuition\n",
      "Geometric Mean Score:0.69\n",
      "ROC-AUC Score:0.76\n",
      "Average Precision-Recall Score:0.37\n",
      "                   pre       rec       spe        f1       geo       iba       sup\n",
      "\n",
      "          0       0.94      0.68      0.70      0.79      0.69      0.48      2244\n",
      "          1       0.26      0.70      0.68      0.38      0.69      0.48       359\n",
      "\n",
      "avg / total       0.84      0.69      0.70      0.73      0.69      0.48      2603\n",
      "\n",
      "\n",
      "Thinking vs Feeling\n",
      "Geometric Mean Score:0.79\n",
      "ROC-AUC Score:0.87\n",
      "Average Precision-Recall Score:0.83\n",
      "                   pre       rec       spe        f1       geo       iba       sup\n",
      "\n",
      "          0       0.83      0.77      0.81      0.80      0.79      0.62      1408\n",
      "          1       0.75      0.81      0.77      0.78      0.79      0.63      1195\n",
      "\n",
      "avg / total       0.79      0.79      0.79      0.79      0.79      0.62      2603\n",
      "\n",
      "\n",
      "Judging vs Perceiving\n",
      "Geometric Mean Score:0.63\n",
      "ROC-AUC Score:0.67\n",
      "Average Precision-Recall Score:0.55\n",
      "                   pre       rec       spe        f1       geo       iba       sup\n",
      "\n",
      "          0       0.72      0.64      0.62      0.68      0.63      0.40      1573\n",
      "          1       0.53      0.62      0.64      0.57      0.63      0.39      1030\n",
      "\n",
      "avg / total       0.64      0.63      0.63      0.63      0.63      0.39      2603\n",
      "\n"
     ]
    }
   ],
   "source": [
    "tfidf_log_regression = imb_make_pipeline(\n",
    "  preprocesser_tf, RandomUnderSampler(), LogisticRegressionCV(random_state = 42, max_iter = 400 )\n",
    ")\n",
    "build_model(tfidf_log_regression, X, y, \"tfidf\")\n"
   ]
  },
  {
   "cell_type": "markdown",
   "metadata": {},
   "source": [
    "### Count Vectorized Logistic Regression "
   ]
  },
  {
   "cell_type": "code",
   "execution_count": 19,
   "metadata": {
    "scrolled": true
   },
   "outputs": [
    {
     "name": "stdout",
     "output_type": "stream",
     "text": [
      "\n",
      "Extrovert vs Introvert\n",
      "Geometric Mean Score:0.64\n",
      "ROC-AUC Score:0.69\n",
      "Average Precision-Recall Score:0.40\n",
      "                   pre       rec       spe        f1       geo       iba       sup\n",
      "\n",
      "          0       0.85      0.66      0.62      0.74      0.64      0.41      2003\n",
      "          1       0.35      0.62      0.66      0.45      0.64      0.41       600\n",
      "\n",
      "avg / total       0.74      0.65      0.63      0.68      0.64      0.41      2603\n",
      "\n",
      "\n",
      "Sensing vs Intuition\n",
      "Geometric Mean Score:0.66\n",
      "ROC-AUC Score:0.73\n",
      "Average Precision-Recall Score:0.31\n",
      "                   pre       rec       spe        f1       geo       iba       sup\n",
      "\n",
      "          0       0.93      0.62      0.70      0.75      0.66      0.43      2244\n",
      "          1       0.23      0.70      0.62      0.35      0.66      0.44       359\n",
      "\n",
      "avg / total       0.83      0.63      0.69      0.69      0.66      0.43      2603\n",
      "\n",
      "\n",
      "Thinking vs Feeling\n",
      "Geometric Mean Score:0.78\n",
      "ROC-AUC Score:0.85\n",
      "Average Precision-Recall Score:0.82\n",
      "                   pre       rec       spe        f1       geo       iba       sup\n",
      "\n",
      "          0       0.81      0.75      0.80      0.78      0.78      0.60      1408\n",
      "          1       0.73      0.80      0.75      0.76      0.78      0.60      1195\n",
      "\n",
      "avg / total       0.78      0.77      0.78      0.77      0.78      0.60      2603\n",
      "\n",
      "\n",
      "Judging vs Perceiving\n",
      "Geometric Mean Score:0.62\n",
      "ROC-AUC Score:0.66\n",
      "Average Precision-Recall Score:0.54\n",
      "                   pre       rec       spe        f1       geo       iba       sup\n",
      "\n",
      "          0       0.70      0.64      0.59      0.67      0.61      0.38      1573\n",
      "          1       0.52      0.59      0.64      0.55      0.61      0.38      1030\n",
      "\n",
      "avg / total       0.63      0.62      0.61      0.62      0.61      0.38      2603\n",
      "\n"
     ]
    }
   ],
   "source": [
    "ct_log_regression = imb_make_pipeline(\n",
    "  preprocesser_ct, RandomUnderSampler(), LogisticRegressionCV(random_state = 42, max_iter = 400)\n",
    ")\n",
    "build_model(ct_log_regression, X, y, \"ct_vect\")"
   ]
  },
  {
   "cell_type": "markdown",
   "metadata": {},
   "source": [
    "### TF-IDF Logistic Ridge "
   ]
  },
  {
   "cell_type": "code",
   "execution_count": null,
   "metadata": {},
   "outputs": [],
   "source": []
  },
  {
   "cell_type": "code",
   "execution_count": 20,
   "metadata": {},
   "outputs": [
    {
     "name": "stdout",
     "output_type": "stream",
     "text": [
      "\n",
      "Extrovert vs Introvert\n",
      "Geometric Mean Score:0.69\n",
      "ROC-AUC Score:0.74\n",
      "Average Precision-Recall Score:0.45\n",
      "                   pre       rec       spe        f1       geo       iba       sup\n",
      "\n",
      "          0       0.88      0.69      0.68      0.78      0.69      0.47      2003\n",
      "          1       0.40      0.68      0.69      0.50      0.69      0.47       600\n",
      "\n",
      "avg / total       0.77      0.69      0.68      0.71      0.69      0.47      2603\n",
      "\n",
      "\n",
      "Sensing vs Intuition\n",
      "Geometric Mean Score:0.69\n",
      "ROC-AUC Score:0.75\n",
      "Average Precision-Recall Score:0.33\n",
      "                   pre       rec       spe        f1       geo       iba       sup\n",
      "\n",
      "          0       0.94      0.67      0.71      0.78      0.69      0.48      2244\n",
      "          1       0.26      0.71      0.67      0.38      0.69      0.48       359\n",
      "\n",
      "avg / total       0.84      0.68      0.71      0.73      0.69      0.48      2603\n",
      "\n",
      "\n",
      "Thinking vs Feeling\n",
      "Geometric Mean Score:0.79\n",
      "ROC-AUC Score:0.87\n",
      "Average Precision-Recall Score:0.83\n",
      "                   pre       rec       spe        f1       geo       iba       sup\n",
      "\n",
      "          0       0.83      0.77      0.82      0.80      0.79      0.62      1408\n",
      "          1       0.75      0.82      0.77      0.78      0.79      0.63      1195\n",
      "\n",
      "avg / total       0.79      0.79      0.79      0.79      0.79      0.63      2603\n",
      "\n",
      "\n",
      "Judging vs Perceiving\n",
      "Geometric Mean Score:0.64\n",
      "ROC-AUC Score:0.68\n",
      "Average Precision-Recall Score:0.56\n",
      "                   pre       rec       spe        f1       geo       iba       sup\n",
      "\n",
      "          0       0.73      0.64      0.63      0.68      0.64      0.41      1573\n",
      "          1       0.54      0.63      0.64      0.58      0.64      0.40      1030\n",
      "\n",
      "avg / total       0.65      0.64      0.64      0.64      0.64      0.41      2603\n",
      "\n"
     ]
    }
   ],
   "source": [
    "tfidf_log_regression_ridge = imb_make_pipeline(\n",
    "    preprocesser_tf, RandomUnderSampler(), LogisticRegressionCV(penalty='l2', solver='saga',\n",
    "                                                                random_state = 42, max_iter = 400 )\n",
    ")\n",
    "build_model(tfidf_log_regression_ridge, X, y, \"tfidf\")"
   ]
  },
  {
   "cell_type": "markdown",
   "metadata": {},
   "source": [
    "### Count Vectorized Logistic Ridge "
   ]
  },
  {
   "cell_type": "code",
   "execution_count": 21,
   "metadata": {},
   "outputs": [
    {
     "name": "stdout",
     "output_type": "stream",
     "text": [
      "\n",
      "Extrovert vs Introvert\n",
      "Geometric Mean Score:0.64\n",
      "ROC-AUC Score:0.70\n",
      "Average Precision-Recall Score:0.40\n",
      "                   pre       rec       spe        f1       geo       iba       sup\n",
      "\n",
      "          0       0.85      0.67      0.62      0.75      0.64      0.42      2003\n",
      "          1       0.36      0.62      0.67      0.45      0.64      0.41       600\n",
      "\n",
      "avg / total       0.74      0.66      0.63      0.68      0.64      0.41      2603\n",
      "\n",
      "\n",
      "Sensing vs Intuition\n",
      "Geometric Mean Score:0.65\n",
      "ROC-AUC Score:0.72\n",
      "Average Precision-Recall Score:0.29\n",
      "                   pre       rec       spe        f1       geo       iba       sup\n",
      "\n",
      "          0       0.92      0.68      0.63      0.78      0.65      0.43      2244\n",
      "          1       0.24      0.63      0.68      0.35      0.65      0.43       359\n",
      "\n",
      "avg / total       0.83      0.67      0.64      0.72      0.65      0.43      2603\n",
      "\n",
      "\n",
      "Thinking vs Feeling\n",
      "Geometric Mean Score:0.78\n",
      "ROC-AUC Score:0.85\n",
      "Average Precision-Recall Score:0.81\n",
      "                   pre       rec       spe        f1       geo       iba       sup\n",
      "\n",
      "          0       0.82      0.76      0.80      0.79      0.78      0.61      1408\n",
      "          1       0.74      0.80      0.76      0.77      0.78      0.61      1195\n",
      "\n",
      "avg / total       0.78      0.78      0.78      0.78      0.78      0.61      2603\n",
      "\n",
      "\n",
      "Judging vs Perceiving\n",
      "Geometric Mean Score:0.62\n",
      "ROC-AUC Score:0.67\n",
      "Average Precision-Recall Score:0.55\n",
      "                   pre       rec       spe        f1       geo       iba       sup\n",
      "\n",
      "          0       0.71      0.62      0.62      0.66      0.62      0.39      1573\n",
      "          1       0.52      0.62      0.62      0.57      0.62      0.39      1030\n",
      "\n",
      "avg / total       0.64      0.62      0.62      0.62      0.62      0.39      2603\n",
      "\n"
     ]
    }
   ],
   "source": [
    "ct_log_regression_ridge = imb_make_pipeline(\n",
    "    preprocesser_ct, RandomUnderSampler(), LogisticRegressionCV(penalty='l2', solver='saga',\n",
    "                                                                random_state = 42, max_iter = 400 )\n",
    ")\n",
    "build_model(ct_log_regression_ridge, X, y, \"ct_vect\")"
   ]
  },
  {
   "cell_type": "markdown",
   "metadata": {},
   "source": [
    "### TD-IDF Decision Tree Classifier "
   ]
  },
  {
   "cell_type": "code",
   "execution_count": 22,
   "metadata": {},
   "outputs": [
    {
     "name": "stdout",
     "output_type": "stream",
     "text": [
      "\n",
      "Extrovert vs Introvert\n",
      "Geometric Mean Score:0.54\n",
      "ROC-AUC Score:0.54\n",
      "Average Precision-Recall Score:0.25\n",
      "                   pre       rec       spe        f1       geo       iba       sup\n",
      "\n",
      "          0       0.80      0.54      0.55      0.65      0.54      0.30      2003\n",
      "          1       0.26      0.55      0.54      0.35      0.54      0.30       600\n",
      "\n",
      "avg / total       0.68      0.54      0.54      0.58      0.54      0.30      2603\n",
      "\n",
      "\n",
      "Sensing vs Intuition\n",
      "Geometric Mean Score:0.53\n",
      "ROC-AUC Score:0.53\n",
      "Average Precision-Recall Score:0.15\n",
      "                   pre       rec       spe        f1       geo       iba       sup\n",
      "\n",
      "          0       0.88      0.52      0.54      0.66      0.53      0.28      2244\n",
      "          1       0.15      0.54      0.52      0.24      0.53      0.29       359\n",
      "\n",
      "avg / total       0.78      0.53      0.54      0.60      0.53      0.28      2603\n",
      "\n",
      "\n",
      "Thinking vs Feeling\n",
      "Geometric Mean Score:0.60\n",
      "ROC-AUC Score:0.60\n",
      "Average Precision-Recall Score:0.52\n",
      "                   pre       rec       spe        f1       geo       iba       sup\n",
      "\n",
      "          0       0.64      0.60      0.60      0.62      0.60      0.36      1408\n",
      "          1       0.56      0.60      0.60      0.58      0.60      0.36      1195\n",
      "\n",
      "avg / total       0.60      0.60      0.60      0.60      0.60      0.36      2603\n",
      "\n",
      "\n",
      "Judging vs Perceiving\n",
      "Geometric Mean Score:0.51\n",
      "ROC-AUC Score:0.51\n",
      "Average Precision-Recall Score:0.40\n",
      "                   pre       rec       spe        f1       geo       iba       sup\n",
      "\n",
      "          0       0.62      0.51      0.51      0.56      0.51      0.26      1573\n",
      "          1       0.41      0.51      0.51      0.45      0.51      0.26      1030\n",
      "\n",
      "avg / total       0.53      0.51      0.51      0.52      0.51      0.26      2603\n",
      "\n"
     ]
    }
   ],
   "source": [
    "tfidf_dt = imb_make_pipeline(\n",
    "    preprocesser_tf, RandomUnderSampler(), DecisionTreeClassifier(random_state = 42)\n",
    ")\n",
    "build_model(tfidf_dt, X, y, \"tfidf\")"
   ]
  },
  {
   "cell_type": "markdown",
   "metadata": {},
   "source": [
    "### Count Vectorized Decision Tree Classifier "
   ]
  },
  {
   "cell_type": "code",
   "execution_count": 23,
   "metadata": {},
   "outputs": [
    {
     "name": "stdout",
     "output_type": "stream",
     "text": [
      "\n",
      "Extrovert vs Introvert\n",
      "Geometric Mean Score:0.55\n",
      "ROC-AUC Score:0.55\n",
      "Average Precision-Recall Score:0.25\n",
      "                   pre       rec       spe        f1       geo       iba       sup\n",
      "\n",
      "          0       0.80      0.53      0.57      0.64      0.55      0.30      2003\n",
      "          1       0.27      0.57      0.53      0.36      0.55      0.30       600\n",
      "\n",
      "avg / total       0.68      0.54      0.56      0.58      0.55      0.30      2603\n",
      "\n",
      "\n",
      "Sensing vs Intuition\n",
      "Geometric Mean Score:0.53\n",
      "ROC-AUC Score:0.53\n",
      "Average Precision-Recall Score:0.15\n",
      "                   pre       rec       spe        f1       geo       iba       sup\n",
      "\n",
      "          0       0.88      0.56      0.51      0.68      0.53      0.29      2244\n",
      "          1       0.16      0.51      0.56      0.24      0.53      0.28       359\n",
      "\n",
      "avg / total       0.78      0.55      0.52      0.62      0.53      0.28      2603\n",
      "\n",
      "\n",
      "Thinking vs Feeling\n",
      "Geometric Mean Score:0.59\n",
      "ROC-AUC Score:0.59\n",
      "Average Precision-Recall Score:0.52\n",
      "                   pre       rec       spe        f1       geo       iba       sup\n",
      "\n",
      "          0       0.64      0.57      0.62      0.60      0.59      0.35      1408\n",
      "          1       0.55      0.62      0.57      0.58      0.59      0.35      1195\n",
      "\n",
      "avg / total       0.60      0.59      0.60      0.59      0.59      0.35      2603\n",
      "\n",
      "\n",
      "Judging vs Perceiving\n",
      "Geometric Mean Score:0.53\n",
      "ROC-AUC Score:0.53\n",
      "Average Precision-Recall Score:0.41\n",
      "                   pre       rec       spe        f1       geo       iba       sup\n",
      "\n",
      "          0       0.63      0.54      0.51      0.58      0.52      0.28      1573\n",
      "          1       0.42      0.51      0.54      0.46      0.52      0.27      1030\n",
      "\n",
      "avg / total       0.55      0.53      0.52      0.53      0.52      0.28      2603\n",
      "\n"
     ]
    }
   ],
   "source": [
    "cv_dt = imb_make_pipeline(\n",
    "    preprocesser_ct, RandomUnderSampler(), DecisionTreeClassifier(random_state = 42)\n",
    ")\n",
    "build_model(cv_dt, X, y, \"ct_vect\")"
   ]
  },
  {
   "cell_type": "markdown",
   "metadata": {},
   "source": [
    "## TF-IDF Support Vector Classifier"
   ]
  },
  {
   "cell_type": "code",
   "execution_count": 24,
   "metadata": {},
   "outputs": [
    {
     "name": "stdout",
     "output_type": "stream",
     "text": [
      "\n",
      "Extrovert vs Introvert\n",
      "Geometric Mean Score:0.67\n",
      "ROC-AUC Score:0.72\n",
      "Average Precision-Recall Score:0.43\n",
      "                   pre       rec       spe        f1       geo       iba       sup\n",
      "\n",
      "          0       0.87      0.70      0.64      0.78      0.67      0.45      2003\n",
      "          1       0.39      0.64      0.70      0.49      0.67      0.45       600\n",
      "\n",
      "avg / total       0.76      0.69      0.66      0.71      0.67      0.45      2603\n",
      "\n",
      "\n",
      "Sensing vs Intuition\n",
      "Geometric Mean Score:0.67\n",
      "ROC-AUC Score:0.73\n",
      "Average Precision-Recall Score:0.32\n",
      "                   pre       rec       spe        f1       geo       iba       sup\n",
      "\n",
      "          0       0.93      0.65      0.69      0.77      0.67      0.45      2244\n",
      "          1       0.24      0.69      0.65      0.36      0.67      0.45       359\n",
      "\n",
      "avg / total       0.83      0.66      0.68      0.71      0.67      0.45      2603\n",
      "\n",
      "\n",
      "Thinking vs Feeling\n",
      "Geometric Mean Score:0.79\n",
      "ROC-AUC Score:0.86\n",
      "Average Precision-Recall Score:0.83\n",
      "                   pre       rec       spe        f1       geo       iba       sup\n",
      "\n",
      "          0       0.83      0.76      0.81      0.79      0.79      0.62      1408\n",
      "          1       0.74      0.81      0.76      0.78      0.79      0.62      1195\n",
      "\n",
      "avg / total       0.79      0.79      0.79      0.79      0.79      0.62      2603\n",
      "\n",
      "\n",
      "Judging vs Perceiving\n",
      "Geometric Mean Score:0.62\n",
      "ROC-AUC Score:0.67\n",
      "Average Precision-Recall Score:0.56\n",
      "                   pre       rec       spe        f1       geo       iba       sup\n",
      "\n",
      "          0       0.72      0.62      0.63      0.67      0.62      0.39      1573\n",
      "          1       0.52      0.63      0.62      0.57      0.62      0.39      1030\n",
      "\n",
      "avg / total       0.64      0.62      0.62      0.63      0.62      0.39      2603\n",
      "\n"
     ]
    }
   ],
   "source": [
    "tfidf_SVC = imb_make_pipeline(\n",
    "    preprocesser_tf, RandomUnderSampler(), SVC(random_state = 42, kernel = 'linear', probability = True)\n",
    ")\n",
    "build_model(tfidf_SVC, X, y, \"tfidf\")"
   ]
  },
  {
   "cell_type": "markdown",
   "metadata": {},
   "source": [
    "##  Count Vectorized Support Vector Classifier "
   ]
  },
  {
   "cell_type": "code",
   "execution_count": 25,
   "metadata": {},
   "outputs": [
    {
     "name": "stdout",
     "output_type": "stream",
     "text": [
      "\n",
      "Extrovert vs Introvert\n",
      "Geometric Mean Score:0.67\n",
      "ROC-AUC Score:0.73\n",
      "Average Precision-Recall Score:0.43\n",
      "                   pre       rec       spe        f1       geo       iba       sup\n",
      "\n",
      "          0       0.87      0.69      0.64      0.77      0.66      0.44      2003\n",
      "          1       0.38      0.64      0.69      0.48      0.66      0.44       600\n",
      "\n",
      "avg / total       0.75      0.68      0.65      0.70      0.66      0.44      2603\n",
      "\n",
      "\n",
      "Sensing vs Intuition\n",
      "Geometric Mean Score:0.69\n",
      "ROC-AUC Score:0.75\n",
      "Average Precision-Recall Score:0.34\n",
      "                   pre       rec       spe        f1       geo       iba       sup\n",
      "\n",
      "          0       0.94      0.66      0.72      0.78      0.69      0.48      2244\n",
      "          1       0.26      0.72      0.66      0.38      0.69      0.48       359\n",
      "\n",
      "avg / total       0.84      0.67      0.71      0.72      0.69      0.48      2603\n",
      "\n",
      "\n",
      "Thinking vs Feeling\n",
      "Geometric Mean Score:0.78\n",
      "ROC-AUC Score:0.86\n",
      "Average Precision-Recall Score:0.83\n",
      "                   pre       rec       spe        f1       geo       iba       sup\n",
      "\n",
      "          0       0.82      0.76      0.81      0.79      0.78      0.61      1408\n",
      "          1       0.74      0.81      0.76      0.77      0.78      0.62      1195\n",
      "\n",
      "avg / total       0.79      0.78      0.79      0.78      0.78      0.61      2603\n",
      "\n",
      "\n",
      "Judging vs Perceiving\n",
      "Geometric Mean Score:0.63\n",
      "ROC-AUC Score:0.67\n",
      "Average Precision-Recall Score:0.56\n",
      "                   pre       rec       spe        f1       geo       iba       sup\n",
      "\n",
      "          0       0.72      0.64      0.61      0.67      0.63      0.39      1573\n",
      "          1       0.53      0.61      0.64      0.57      0.63      0.39      1030\n",
      "\n",
      "avg / total       0.64      0.63      0.62      0.63      0.63      0.39      2603\n",
      "\n"
     ]
    }
   ],
   "source": [
    "cv_SVC = imb_make_pipeline(\n",
    "    preprocesser_tf, RandomUnderSampler(), SVC(random_state = 42, kernel = 'linear', probability = True)\n",
    ")\n",
    "build_model(cv_SVC, X, y, \"ct_vect\")"
   ]
  },
  {
   "cell_type": "markdown",
   "metadata": {},
   "source": [
    "### TF-IDF Random Forest"
   ]
  },
  {
   "cell_type": "code",
   "execution_count": 26,
   "metadata": {},
   "outputs": [
    {
     "name": "stdout",
     "output_type": "stream",
     "text": [
      "\n",
      "Extrovert vs Introvert\n",
      "Geometric Mean Score:0.62\n",
      "ROC-AUC Score:0.66\n",
      "Average Precision-Recall Score:0.35\n",
      "                   pre       rec       spe        f1       geo       iba       sup\n",
      "\n",
      "          0       0.84      0.62      0.62      0.71      0.62      0.38      2003\n",
      "          1       0.32      0.62      0.62      0.43      0.62      0.38       600\n",
      "\n",
      "avg / total       0.72      0.62      0.62      0.65      0.62      0.38      2603\n",
      "\n",
      "\n",
      "Sensing vs Intuition\n",
      "Geometric Mean Score:0.60\n",
      "ROC-AUC Score:0.66\n",
      "Average Precision-Recall Score:0.23\n",
      "                   pre       rec       spe        f1       geo       iba       sup\n",
      "\n",
      "          0       0.91      0.59      0.62      0.71      0.60      0.36      2244\n",
      "          1       0.19      0.62      0.59      0.30      0.60      0.37       359\n",
      "\n",
      "avg / total       0.81      0.59      0.61      0.66      0.60      0.36      2603\n",
      "\n",
      "\n",
      "Thinking vs Feeling\n",
      "Geometric Mean Score:0.71\n",
      "ROC-AUC Score:0.78\n",
      "Average Precision-Recall Score:0.73\n",
      "                   pre       rec       spe        f1       geo       iba       sup\n",
      "\n",
      "          0       0.75      0.69      0.73      0.72      0.71      0.50      1408\n",
      "          1       0.67      0.73      0.69      0.70      0.71      0.51      1195\n",
      "\n",
      "avg / total       0.71      0.71      0.71      0.71      0.71      0.51      2603\n",
      "\n",
      "\n",
      "Judging vs Perceiving\n",
      "Geometric Mean Score:0.59\n",
      "ROC-AUC Score:0.63\n",
      "Average Precision-Recall Score:0.51\n",
      "                   pre       rec       spe        f1       geo       iba       sup\n",
      "\n",
      "          0       0.69      0.57      0.60      0.62      0.59      0.34      1573\n",
      "          1       0.48      0.60      0.57      0.53      0.59      0.35      1030\n",
      "\n",
      "avg / total       0.60      0.58      0.59      0.59      0.59      0.34      2603\n",
      "\n"
     ]
    }
   ],
   "source": [
    "tfidf_rf = imb_make_pipeline(\n",
    "    preprocesser_tf, RandomUnderSampler(), RandomForestClassifier(random_state = 42, max_depth = 10)\n",
    ")\n",
    "build_model(tfidf_rf, X, y, \"tfidf\")"
   ]
  },
  {
   "cell_type": "markdown",
   "metadata": {},
   "source": [
    "### Count Vectorized Random Forest "
   ]
  },
  {
   "cell_type": "code",
   "execution_count": 27,
   "metadata": {},
   "outputs": [
    {
     "name": "stdout",
     "output_type": "stream",
     "text": [
      "\n",
      "Extrovert vs Introvert\n",
      "Geometric Mean Score:0.63\n",
      "ROC-AUC Score:0.68\n",
      "Average Precision-Recall Score:0.37\n",
      "                   pre       rec       spe        f1       geo       iba       sup\n",
      "\n",
      "          0       0.85      0.64      0.62      0.73      0.63      0.40      2003\n",
      "          1       0.34      0.62      0.64      0.44      0.63      0.40       600\n",
      "\n",
      "avg / total       0.73      0.63      0.63      0.66      0.63      0.40      2603\n",
      "\n",
      "\n",
      "Sensing vs Intuition\n",
      "Geometric Mean Score:0.63\n",
      "ROC-AUC Score:0.69\n",
      "Average Precision-Recall Score:0.26\n",
      "                   pre       rec       spe        f1       geo       iba       sup\n",
      "\n",
      "          0       0.92      0.58      0.69      0.71      0.63      0.40      2244\n",
      "          1       0.21      0.69      0.58      0.32      0.63      0.41       359\n",
      "\n",
      "avg / total       0.82      0.59      0.68      0.66      0.63      0.40      2603\n",
      "\n",
      "\n",
      "Thinking vs Feeling\n",
      "Geometric Mean Score:0.73\n",
      "ROC-AUC Score:0.79\n",
      "Average Precision-Recall Score:0.74\n",
      "                   pre       rec       spe        f1       geo       iba       sup\n",
      "\n",
      "          0       0.77      0.70      0.75      0.73      0.73      0.53      1408\n",
      "          1       0.68      0.75      0.70      0.72      0.73      0.53      1195\n",
      "\n",
      "avg / total       0.73      0.73      0.73      0.73      0.73      0.53      2603\n",
      "\n",
      "\n",
      "Judging vs Perceiving\n",
      "Geometric Mean Score:0.58\n",
      "ROC-AUC Score:0.61\n",
      "Average Precision-Recall Score:0.49\n",
      "                   pre       rec       spe        f1       geo       iba       sup\n",
      "\n",
      "          0       0.68      0.59      0.57      0.63      0.58      0.34      1573\n",
      "          1       0.48      0.57      0.59      0.52      0.58      0.34      1030\n",
      "\n",
      "avg / total       0.60      0.58      0.58      0.59      0.58      0.34      2603\n",
      "\n"
     ]
    }
   ],
   "source": [
    "cv_rf = imb_make_pipeline(\n",
    "    preprocesser_ct, RandomUnderSampler(), RandomForestClassifier(random_state = 42, max_depth = 10)\n",
    ")\n",
    "build_model(cv_rf, X, y, \"ct_vect\")"
   ]
  },
  {
   "cell_type": "markdown",
   "metadata": {},
   "source": [
    "## TF - IDF Naive Bayes "
   ]
  },
  {
   "cell_type": "code",
   "execution_count": 16,
   "metadata": {},
   "outputs": [
    {
     "name": "stdout",
     "output_type": "stream",
     "text": [
      "\n",
      "Extrovert vs Introvert\n",
      "Geometric Mean Score:0.67\n",
      "ROC-AUC Score:0.73\n",
      "Average Precision-Recall Score:0.42\n",
      "                   pre       rec       spe        f1       geo       iba       sup\n",
      "\n",
      "          0       0.88      0.63      0.72      0.73      0.67      0.45      2003\n",
      "          1       0.37      0.72      0.63      0.48      0.67      0.45       600\n",
      "\n",
      "avg / total       0.76      0.65      0.70      0.68      0.67      0.45      2603\n",
      "\n",
      "\n",
      "Sensing vs Intuition\n",
      "Geometric Mean Score:0.70\n",
      "ROC-AUC Score:0.76\n",
      "Average Precision-Recall Score:0.35\n",
      "                   pre       rec       spe        f1       geo       iba       sup\n",
      "\n",
      "          0       0.94      0.72      0.69      0.81      0.70      0.50      2244\n",
      "          1       0.28      0.69      0.72      0.40      0.70      0.50       359\n",
      "\n",
      "avg / total       0.85      0.71      0.70      0.75      0.70      0.50      2603\n",
      "\n",
      "\n",
      "Thinking vs Feeling\n",
      "Geometric Mean Score:0.75\n",
      "ROC-AUC Score:0.84\n",
      "Average Precision-Recall Score:0.78\n",
      "                   pre       rec       spe        f1       geo       iba       sup\n",
      "\n",
      "          0       0.75      0.82      0.69      0.78      0.75      0.57      1408\n",
      "          1       0.76      0.69      0.82      0.72      0.75      0.55      1195\n",
      "\n",
      "avg / total       0.76      0.76      0.75      0.76      0.75      0.56      2603\n",
      "\n",
      "\n",
      "Judging vs Perceiving\n",
      "Geometric Mean Score:0.62\n",
      "ROC-AUC Score:0.67\n",
      "Average Precision-Recall Score:0.55\n",
      "                   pre       rec       spe        f1       geo       iba       sup\n",
      "\n",
      "          0       0.72      0.59      0.65      0.65      0.62      0.38      1573\n",
      "          1       0.51      0.65      0.59      0.57      0.62      0.39      1030\n",
      "\n",
      "avg / total       0.64      0.61      0.63      0.62      0.62      0.38      2603\n",
      "\n"
     ]
    }
   ],
   "source": [
    "tfidf_nb = imb_make_pipeline(\n",
    "    preprocesser_tf, RandomUnderSampler(), MultinomialNB()\n",
    ")\n",
    "build_model(tfidf_nb, X, y, \"tfidf\")"
   ]
  },
  {
   "cell_type": "markdown",
   "metadata": {},
   "source": [
    "## Count Vectorized Naive Bayes "
   ]
  },
  {
   "cell_type": "raw",
   "metadata": {},
   "source": [
    "cv_nb = imb_make_pipeline(\n",
    "    preprocesser_tf, RandomUnderSampler(), MultinomialNB()\n",
    ")\n",
    "build_model(tfidf_nb, X, y, \"ct_vect\")"
   ]
  },
  {
   "cell_type": "markdown",
   "metadata": {},
   "source": [
    "## Results"
   ]
  },
  {
   "cell_type": "markdown",
   "metadata": {},
   "source": [
    "The TF-IDF Logistic Regression performed better on Average Precision Recall then most of the other models. The worst model by far was the Decision Tree Classifer which may have had to be tuned better. I don't believe it's worth it to try to get that model higher as most of the other models already have higher untuned scores. I will go ahead with the Tf-IDF logistic Regression as our final model. None of the models performed very well on the Extroversion vs Introvert and Sensing v Intuition \n",
    "\n",
    "### TF-IDf Logistic Regression results \n",
    "\n",
    "#### Extrovert vs Introvert\n",
    "\n",
    "Geometric Mean Score:0.69\n",
    "\n",
    "ROC-AUC Score:0.74\n",
    "\n",
    "Average Precision-Recall Score:0.45\n",
    "\n",
    "\n",
    "#### Thinking vs Feeling\n",
    "\n",
    "Geometric Mean Score:0.79\n",
    "\n",
    "ROC-AUC Score:0.87\n",
    "\n",
    "Average Precision-Recall Score:0.83\n",
    "\n",
    "\n",
    "#### Sensing vs Intuition\n",
    "\n",
    "Geometric Mean Score:0.69\n",
    "\n",
    "ROC-AUC Score:0.76\n",
    "\n",
    "Average Precision-Recall Score:0.37\n",
    "\n",
    "#### Judging vs Perceiving\n",
    "\n",
    "Geometric Mean Score:0.63\n",
    "\n",
    "ROC-AUC Score:0.67\n",
    "\n",
    "Average Precision-Recall Score:0.55\n",
    "\n",
    "\n"
   ]
  },
  {
   "cell_type": "markdown",
   "metadata": {},
   "source": [
    "## Final Model "
   ]
  },
  {
   "cell_type": "markdown",
   "metadata": {},
   "source": [
    "We can now train it on on our entire datatset."
   ]
  },
  {
   "cell_type": "code",
   "execution_count": 15,
   "metadata": {},
   "outputs": [
    {
     "name": "stdout",
     "output_type": "stream",
     "text": [
      "\n",
      "Extrovert vs Introvert\n",
      "              coef\n",
      "word              \n",
      "fun       4.166195\n",
      "bored     3.531274\n",
      "mind     -2.868488\n",
      "games    -2.864104\n",
      "family   -2.832853\n",
      "friends   2.679862\n",
      "fucking   2.675458\n",
      "crazy     2.504728\n",
      "quiet    -2.447162\n",
      "new       2.431916\n",
      "business  2.409307\n",
      "term      2.331531\n",
      "super     2.300975\n",
      "small    -2.296636\n",
      "dream    -2.260396\n",
      "show      2.222053\n",
      "yeah      2.213749\n",
      "both      2.213714\n",
      "guys      2.172592\n",
      "try      -2.108699\n",
      "yourself  2.057933\n",
      "\n",
      "Sensing vs Intuition\n",
      "                coef\n",
      "word                \n",
      "world      -2.550439\n",
      "science    -2.474393\n",
      "sounds      2.397602\n",
      "rant        2.268407\n",
      "usually     2.255763\n",
      "nts        -2.162298\n",
      "human      -2.026835\n",
      "rave        1.966961\n",
      "fun         1.916832\n",
      "thanks      1.916353\n",
      "yet        -1.903583\n",
      "yes        -1.885948\n",
      "feel       -1.851957\n",
      "dont        1.777281\n",
      "philosophy -1.766491\n",
      "enneagram   1.757157\n",
      "romance    -1.743062\n",
      "pretty      1.727526\n",
      "debate     -1.696236\n",
      "such       -1.694485\n",
      "need        1.684353\n",
      "\n",
      "Thinking vs Feeling\n",
      "               coef\n",
      "word               \n",
      "feel      -7.278049\n",
      "values    -5.375925\n",
      "female     4.967763\n",
      "love      -4.672530\n",
      "beautiful -4.057863\n",
      "wish      -3.656932\n",
      "boring     3.501958\n",
      "why        3.449174\n",
      "feeling   -3.359013\n",
      "song      -3.301971\n",
      "emotions   3.262353\n",
      "knowledge  3.216379\n",
      "shy       -3.052365\n",
      "world     -2.959239\n",
      "stupid     2.921341\n",
      "efficient  2.908586\n",
      "lazy       2.905121\n",
      "fucking    2.903639\n",
      "shit       2.859306\n",
      "life      -2.848645\n",
      "psychic   -2.821495\n",
      "\n",
      "Judging vs Perceiving\n",
      "               coef\n",
      "word               \n",
      "others     1.285032\n",
      "love      -1.174975\n",
      "will       1.173826\n",
      "pretty    -1.129108\n",
      "dear       1.124489\n",
      "yeah      -1.087832\n",
      "plan       1.050063\n",
      "intuition  1.007592\n",
      "fun       -1.004085\n",
      "music     -1.000035\n",
      "fuck      -0.964037\n",
      "welcome    0.939915\n",
      "stuff     -0.930276\n",
      "help       0.920591\n",
      "cold       0.897527\n",
      "ideas     -0.881920\n",
      "rant       0.861677\n",
      "shit      -0.830826\n",
      "guys      -0.825418\n",
      "weed      -0.782323\n",
      "tea        0.779749\n"
     ]
    },
    {
     "data": {
      "image/png": "[encoded data removed]",
      "text/plain": [
       "<Figure size 432x288 with 1 Axes>"
      ]
     },
     "metadata": {
      "needs_background": "light"
     },
     "output_type": "display_data"
    },
    {
     "data": {
      "image/png": "[encoded data removed]",
      "text/plain": [
       "<Figure size 432x288 with 1 Axes>"
      ]
     },
     "metadata": {
      "needs_background": "light"
     },
     "output_type": "display_data"
    },
    {
     "data": {
      "image/png": "[encoded data removed]",
      "text/plain": [
       "<Figure size 432x288 with 1 Axes>"
      ]
     },
     "metadata": {
      "needs_background": "light"
     },
     "output_type": "display_data"
    },
    {
     "data": {
      "image/png": "[encoded data removed]",
      "text/plain": [
       "<Figure size 432x288 with 1 Axes>"
      ]
     },
     "metadata": {
      "needs_background": "light"
     },
     "output_type": "display_data"
    }
   ],
   "source": [
    "for col in y.columns:\n",
    "    print(f\"\\n{mbti_type[col]}\")\n",
    "    target = y[col]       \n",
    "\n",
    "\n",
    "    tfidf_log_regression = imb_make_pipeline(\n",
    "    preprocesser_tf, RandomUnderSampler(), LogisticRegressionCV(random_state = 42, max_iter = 400 )\n",
    "    )\n",
    "    \n",
    "    # training the data on whole set\n",
    "    tfidf_log_regression.fit(X, target)\n",
    "    \n",
    "    # feature importance   \n",
    "    coef = tfidf_log_regression[-1].coef_[0]  \n",
    "    word = tfidf_log_regression[0].named_transformers_[\"tfidf\"].get_feature_names()\n",
    "    word_list = list(zip(word, coef))         \n",
    "    result = pd.DataFrame(word_list, columns=[\"word\", \"coef\"]).set_index(\"word\")    \n",
    "    result = result.reindex(result.coef.abs().sort_values(ascending=False).index)[0:21]\n",
    "    print(result)\n",
    "    \n",
    "    # plotting feature importance\n",
    "    result[\"coef\"] = result[\"coef\"].apply(lambda x: abs(x))\n",
    "    result.sort_values(\"coef\", inplace=True)\n",
    "    result.plot(kind=\"barh\", title=mbti_type[col])\n",
    "\n",
    "    "
   ]
  }
 ],
 "metadata": {
  "kernelspec": {
   "display_name": "Python (learn-env)",
   "language": "python",
   "name": "learn-env"
  },
  "language_info": {
   "codemirror_mode": {
    "name": "ipython",
    "version": 3
   },
   "file_extension": ".py",
   "mimetype": "text/x-python",
   "name": "python",
   "nbconvert_exporter": "python",
   "pygments_lexer": "ipython3",
   "version": "3.8.5"
  }
 },
 "nbformat": 4,
 "nbformat_minor": 4
}
